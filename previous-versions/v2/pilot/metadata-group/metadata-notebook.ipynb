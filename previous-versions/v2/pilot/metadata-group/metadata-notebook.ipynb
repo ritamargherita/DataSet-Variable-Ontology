{
 "cells": [
  {
   "cell_type": "markdown",
   "id": "0d514c2f",
   "metadata": {},
   "source": [
    "## General Info\n",
    "\n",
    "In this notebook you will find METADATA files about some datasets."
   ]
  },
  {
   "cell_type": "code",
   "execution_count": 1,
   "id": "2d432ce6",
   "metadata": {},
   "outputs": [],
   "source": [
    "# files\n",
    "\n",
    "file_1 = \"./input-files/file-1-meta-rich.csv\"\n",
    "file_2 = \"./input-files/file-2-meta-rich.csv\""
   ]
  },
  {
   "cell_type": "code",
   "execution_count": null,
   "id": "baaaea0c",
   "metadata": {},
   "outputs": [],
   "source": []
  }
 ],
 "metadata": {
  "kernelspec": {
   "display_name": "Python 3",
   "language": "python",
   "name": "python3"
  },
  "language_info": {
   "codemirror_mode": {
    "name": "ipython",
    "version": 3
   },
   "file_extension": ".py",
   "mimetype": "text/x-python",
   "name": "python",
   "nbconvert_exporter": "python",
   "pygments_lexer": "ipython3",
   "version": "3.8.5"
  }
 },
 "nbformat": 4,
 "nbformat_minor": 5
}
