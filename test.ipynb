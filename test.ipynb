{
 "cells": [
  {
   "cell_type": "code",
   "execution_count": 1,
   "id": "cf37f10c",
   "metadata": {},
   "outputs": [],
   "source": [
    "# import modules\n",
    "\n",
    "import metasynth, os, shutil\n",
    "import polars as pl\n",
    "\n",
    "\n",
    "from metasynth import MetaDataset\n",
    "from pathlib import Path"
   ]
  },
  {
   "cell_type": "code",
   "execution_count": 2,
   "id": "9118d815",
   "metadata": {},
   "outputs": [],
   "source": [
    "# assign input, pre-enrichment-output, mid-enrichment-output and post-enrichment-output\n",
    "\n",
    "input_directory = \"input-files\"\n",
    "pre_enrichment_directory = \"pre-enrichment-output\"\n",
    "mid_enrichment_directory = \"mid-enrichment-output\"\n",
    "post_enrichment_directory = \"post-enrichment-output\""
   ]
  },
  {
   "cell_type": "markdown",
   "id": "cf8d1964",
   "metadata": {},
   "source": [
    "### Pre Enrichment (Meta Synth)"
   ]
  },
  {
   "cell_type": "code",
   "execution_count": 3,
   "id": "b1d6d8b8",
   "metadata": {},
   "outputs": [],
   "source": [
    "def create_output_directory(output_directory):\n",
    "    \n",
    "    if Path(output_directory).is_dir():\n",
    "        shutil.rmtree(output_directory)\n",
    "    else:\n",
    "        Path(output_directory).mkdir(parents=True)\n",
    "    \n",
    "    return"
   ]
  },
  {
   "cell_type": "code",
   "execution_count": 4,
   "id": "efbaab79",
   "metadata": {},
   "outputs": [],
   "source": [
    "def make_polar_df(filepath):\n",
    "    \n",
    "    polar_df = pl.read_csv(filepath)\n",
    "    \n",
    "    return polar_df"
   ]
  },
  {
   "cell_type": "code",
   "execution_count": 5,
   "id": "6ab6bf96",
   "metadata": {},
   "outputs": [],
   "source": [
    "def make_metadata_json_file(polar_df, pre_enrichment_directory, filename):\n",
    "    \n",
    "    dataset = MetaDataset.from_dataframe(polar_df)\n",
    "    json_filename = filename.replace(\".csv\", \".json\")\n",
    "    dataset.to_json(os.path.join(pre_enrichment_directory, json_filename))\n",
    "    \n",
    "    return"
   ]
  },
  {
   "cell_type": "markdown",
   "id": "6ee19f32",
   "metadata": {},
   "source": [
    "## Mid Enrichment"
   ]
  },
  {
   "cell_type": "code",
   "execution_count": null,
   "id": "ae3a9cf0",
   "metadata": {},
   "outputs": [],
   "source": []
  },
  {
   "cell_type": "code",
   "execution_count": null,
   "id": "42e7f44d",
   "metadata": {},
   "outputs": [],
   "source": []
  },
  {
   "cell_type": "markdown",
   "id": "851a22a3",
   "metadata": {},
   "source": [
    "## Main"
   ]
  },
  {
   "cell_type": "code",
   "execution_count": 6,
   "id": "18c297d4",
   "metadata": {},
   "outputs": [
    {
     "name": "stderr",
     "output_type": "stream",
     "text": [
      "/opt/homebrew/lib/python3.9/site-packages/metasynth/disttree.py:131: UserWarning: \n",
      "Variable id seems unique, but not set to be unique.\n",
      "Set the variable to be either unique or not unique to remove this warning.\n",
      "\n",
      "  warnings.warn(f\"\\nVariable {series.name} seems unique, but not set to be unique.\\n\"\n",
      "/opt/homebrew/lib/python3.9/site-packages/metasynth/disttree.py:131: UserWarning: \n",
      "Variable Participant number seems unique, but not set to be unique.\n",
      "Set the variable to be either unique or not unique to remove this warning.\n",
      "\n",
      "  warnings.warn(f\"\\nVariable {series.name} seems unique, but not set to be unique.\\n\"\n",
      "/opt/homebrew/lib/python3.9/site-packages/metasynth/disttree.py:131: UserWarning: \n",
      "Variable PID seems unique, but not set to be unique.\n",
      "Set the variable to be either unique or not unique to remove this warning.\n",
      "\n",
      "  warnings.warn(f\"\\nVariable {series.name} seems unique, but not set to be unique.\\n\"\n"
     ]
    }
   ],
   "source": [
    "# make pre enrichment directory\n",
    "create_output_directory(pre_enrichment_directory)\n",
    "\n",
    "# make mid enrichment directory \n",
    "create_output_directory(mid_enrichment_directory)\n",
    "\n",
    "# make post enrichment directory \n",
    "create_output_directory(post_enrichment_directory)\n",
    "\n",
    "\n",
    "\n",
    "for filename in os.listdir(input_directory):\n",
    "    \n",
    "    if filename.endswith(\".csv\"):\n",
    "        filepath = os.path.join(input_directory, filename)\n",
    "\n",
    "        polar_df = make_polar_df(filepath)\n",
    "        \n",
    "        metadata_json_file = make_metadata_json_file(polar_df, pre_enrichment_directory, filename)"
   ]
  },
  {
   "cell_type": "code",
   "execution_count": null,
   "id": "e89e423b",
   "metadata": {},
   "outputs": [],
   "source": []
  }
 ],
 "metadata": {
  "kernelspec": {
   "display_name": "venv",
   "language": "python",
   "name": "venv"
  },
  "language_info": {
   "codemirror_mode": {
    "name": "ipython",
    "version": 3
   },
   "file_extension": ".py",
   "mimetype": "text/x-python",
   "name": "python",
   "nbconvert_exporter": "python",
   "pygments_lexer": "ipython3",
   "version": "3.9.1"
  }
 },
 "nbformat": 4,
 "nbformat_minor": 5
}
