{
 "cells": [
  {
   "cell_type": "markdown",
   "id": "ed7f7bbc",
   "metadata": {},
   "source": [
    "## General Info\n",
    "\n",
    "The files can be seen and downloaded at the following links:\n",
    "\n",
    "file-1: https://dataverse.nl/dataset.xhtml?persistentId=doi:10.34894/5ZDSRZ\n",
    "\n",
    "file-2: https://dataverse.nl/dataset.xhtml?persistentId=doi:10.34894/LCH4CA\n",
    "\n",
    "For semplicity (and because the data requires tedious cleaning) use the files provided, but you can still look for more information in their relative webpages"
   ]
  },
  {
   "cell_type": "code",
   "execution_count": 5,
   "id": "4e9d29d0",
   "metadata": {},
   "outputs": [],
   "source": [
    "# files\n",
    "\n",
    "file_1 = \"./input-files/file-1.csv\"\n",
    "file_2 = \"./input-files/file-2.csv\""
   ]
  },
  {
   "cell_type": "code",
   "execution_count": null,
   "id": "129fdd35",
   "metadata": {},
   "outputs": [],
   "source": []
  }
 ],
 "metadata": {
  "kernelspec": {
   "display_name": "Python 3",
   "language": "python",
   "name": "python3"
  },
  "language_info": {
   "codemirror_mode": {
    "name": "ipython",
    "version": 3
   },
   "file_extension": ".py",
   "mimetype": "text/x-python",
   "name": "python",
   "nbconvert_exporter": "python",
   "pygments_lexer": "ipython3",
   "version": "3.8.5"
  }
 },
 "nbformat": 4,
 "nbformat_minor": 5
}
