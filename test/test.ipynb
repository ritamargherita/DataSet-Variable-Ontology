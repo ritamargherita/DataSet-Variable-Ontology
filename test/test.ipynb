{
 "cells": [
  {
   "cell_type": "code",
   "execution_count": 100,
   "id": "a095b80d",
   "metadata": {},
   "outputs": [],
   "source": [
    "import numpy as np\n",
    "import os\n",
    "import pandas as pd\n",
    "\n",
    "from typing import Callable\n",
    "from rdflib import Literal, Graph, Namespace, URIRef, RDF"
   ]
  },
  {
   "cell_type": "code",
   "execution_count": 105,
   "id": "1adf03c4",
   "metadata": {},
   "outputs": [],
   "source": [
    "### variables\n",
    "\n",
    "# path to input file\n",
    "path_to_input_folder = \"./\"\n",
    "input_file_name = \"test.csv\"\n",
    "\n",
    "# make graph\n",
    "graph = Graph()\n",
    "\n",
    "# define namespaces\n",
    "ex_ns = Namespace(\"http://www.example.org/rdf#\")\n",
    "\n",
    "# namespace binding to graph\n",
    "graph.bind(\"rdf\", RDF)\n",
    "graph.bind(\"ex\", ex_ns)"
   ]
  },
  {
   "cell_type": "code",
   "execution_count": 106,
   "id": "c5242d55",
   "metadata": {},
   "outputs": [],
   "source": [
    "def read_csv_as_df(path_to_input_folder: str, input_file_name: str) -> pd.DataFrame:\n",
    "    \"\"\"\n",
    "    This function reads an input csv file as pandas DataFrame.\n",
    "    Only csv format compatible at the moment.\n",
    "    \"\"\"\n",
    "    \n",
    "    df = pd.read_csv(os.path.join(path_to_input_folder, input_file_name))\n",
    "    \n",
    "    return df"
   ]
  },
  {
   "cell_type": "code",
   "execution_count": null,
   "id": "3c984908",
   "metadata": {},
   "outputs": [],
   "source": [
    "def get_file_id(input_file_path: str)"
   ]
  },
  {
   "cell_type": "code",
   "execution_count": 59,
   "id": "f6301b22",
   "metadata": {},
   "outputs": [],
   "source": [
    "def get_number_of_cols(df: pd.DataFrame) -> int:\n",
    "    \"\"\"\n",
    "    Calculate the number of columns in DataFrame.\n",
    "    \"\"\"\n",
    "    \n",
    "    n_cols = len(df.columns)\n",
    "    \n",
    "    return n_cols"
   ]
  },
  {
   "cell_type": "code",
   "execution_count": 60,
   "id": "fda0ca69",
   "metadata": {},
   "outputs": [],
   "source": [
    "def get_number_of_rows(df: pd.DataFrame) -> int:\n",
    "    \"\"\"\n",
    "    Calculate the number of columns in DataFrame.\n",
    "    \"\"\"\n",
    "    \n",
    "    n_rows = len(df)\n",
    "    \n",
    "    return n_rows"
   ]
  },
  {
   "cell_type": "code",
   "execution_count": 71,
   "id": "3e32f95f",
   "metadata": {},
   "outputs": [],
   "source": [
    "def get_number_NaN_per_col(df: pd.DataFrame, col: pd.Series) -> int:\n",
    "    \"\"\"\n",
    "    \n",
    "    \"\"\"\n",
    "    \n",
    "    n_nan_per_col = df[col].isnull().sum()\n",
    "    \n",
    "    return n_nan_per_col"
   ]
  },
  {
   "cell_type": "code",
   "execution_count": 94,
   "id": "2025e1fc",
   "metadata": {},
   "outputs": [],
   "source": [
    "def calculate_col_completeness(\n",
    "    df: pd.DataFrame, col: pd.Series, n_rows,\n",
    "    get_number_NaN_per_col: Callable[[pd.DataFrame, pd.Series], int]) -> float:\n",
    "    \"\"\"\n",
    "    Calculate the ratio between filled and empty cells\n",
    "    in a column, where 0 means the column has only empty\n",
    "    values and 1 that the column has no empty values.\n",
    "    \"\"\"\n",
    "    \n",
    "    n_nan_per_col = get_number_NaN_per_col(df, col)\n",
    "    \n",
    "    col_completeness = '{:.1%}'.format((n_rows - n_nan_per_col) / n_rows)\n",
    "    \n",
    "    return col_completeness"
   ]
  },
  {
   "cell_type": "code",
   "execution_count": null,
   "id": "0d7a83ad",
   "metadata": {},
   "outputs": [],
   "source": []
  },
  {
   "cell_type": "code",
   "execution_count": null,
   "id": "5d49d6eb",
   "metadata": {},
   "outputs": [],
   "source": []
  },
  {
   "cell_type": "code",
   "execution_count": null,
   "id": "3e7c52b7",
   "metadata": {},
   "outputs": [],
   "source": []
  },
  {
   "cell_type": "code",
   "execution_count": null,
   "id": "fbe128db",
   "metadata": {},
   "outputs": [],
   "source": []
  },
  {
   "cell_type": "code",
   "execution_count": 16,
   "id": "b5b47060",
   "metadata": {},
   "outputs": [],
   "source": [
    "def make_list_cols_name(df: pd.DataFrame) -> list:\n",
    "    \"\"\"\n",
    "    Make list of the columns name of the DataFrame.\n",
    "    \"\"\"\n",
    "    \n",
    "    cols_name = list(df.columns)\n",
    "    \n",
    "    return cols_name"
   ]
  },
  {
   "cell_type": "code",
   "execution_count": 29,
   "id": "c43065da",
   "metadata": {},
   "outputs": [],
   "source": [
    "def make_dict_cols_name_index(cols_name: list, df: pd.DataFrame) -> dict:\n",
    "    \"\"\"\n",
    "    Make dictionary where key is column index + 1 \n",
    "    and value is column name.\n",
    "    \"\"\"\n",
    "    \n",
    "    cols_dict = {}\n",
    "    \n",
    "    for col_name in cols_name:\n",
    "        key = df.columns.get_loc(col_name) + 1\n",
    "        value = col_name\n",
    "        cols_dict[key] = value\n",
    "    \n",
    "    return cols_dict"
   ]
  },
  {
   "cell_type": "code",
   "execution_count": null,
   "id": "47118db9",
   "metadata": {},
   "outputs": [],
   "source": [
    "def make_dict_cols_info(df):\n",
    "    \n",
    "    cols_info = {}\n",
    "    \n",
    "    for column in df:\n",
    "        print(df[column])"
   ]
  },
  {
   "cell_type": "code",
   "execution_count": null,
   "id": "66b43c03",
   "metadata": {},
   "outputs": [],
   "source": []
  },
  {
   "cell_type": "code",
   "execution_count": null,
   "id": "fdacc71d",
   "metadata": {},
   "outputs": [],
   "source": []
  },
  {
   "cell_type": "code",
   "execution_count": null,
   "id": "98606144",
   "metadata": {},
   "outputs": [],
   "source": [
    "def add_to_graph(graph):\n",
    "    \n",
    "    \"\"\"\n",
    "    \"\"\"\n",
    "    \n",
    "    graph.add((URIRef()))"
   ]
  },
  {
   "cell_type": "code",
   "execution_count": null,
   "id": "1ceb6d23",
   "metadata": {},
   "outputs": [],
   "source": []
  },
  {
   "cell_type": "code",
   "execution_count": null,
   "id": "8aae587f",
   "metadata": {},
   "outputs": [],
   "source": []
  },
  {
   "cell_type": "code",
   "execution_count": 107,
   "id": "9beaf1e7",
   "metadata": {},
   "outputs": [
    {
     "name": "stdout",
     "output_type": "stream",
     "text": [
      "100.0%\n",
      "100.0%\n",
      "95.5%\n",
      "97.1%\n",
      "99.9%\n",
      "85.1%\n",
      "87.5%\n",
      "96.6%\n",
      "100.0%\n",
      "95.8%\n",
      "95.7%\n",
      "95.2%\n"
     ]
    }
   ],
   "source": [
    "df = read_csv_as_df(path_to_input_folder, input_file_name)\n",
    "df\n",
    "\n",
    "n_cols = get_number_of_cols(df)\n",
    "n_rows = get_number_of_rows(df)\n",
    "\n",
    "for col in df:\n",
    "    col_completeness = calculate_col_completeness(df, col, n_rows, get_number_NaN_per_col)\n",
    "    print(col_completeness)"
   ]
  },
  {
   "cell_type": "code",
   "execution_count": 92,
   "id": "c19c731e",
   "metadata": {},
   "outputs": [
    {
     "data": {
      "text/plain": [
       "0.04791666666666667"
      ]
     },
     "execution_count": 92,
     "metadata": {},
     "output_type": "execute_result"
    }
   ],
   "source": []
  },
  {
   "cell_type": "code",
   "execution_count": 42,
   "id": "a87976f0",
   "metadata": {},
   "outputs": [],
   "source": [
    "cols_info = {}\n",
    "\n",
    "for column in df:\n",
    "    \n",
    "    key = df.columns.get_loc(column)\n",
    "    \n",
    "    col_index = key + 1\n",
    "    \n",
    "    \n",
    "    value = dict({\"index\": col_index,\n",
    "                 \"name\": column})\n",
    "    \n",
    "    cols_info[key] = value"
   ]
  },
  {
   "cell_type": "code",
   "execution_count": 43,
   "id": "23ac8012",
   "metadata": {},
   "outputs": [
    {
     "data": {
      "text/plain": [
       "{0: {'index': 1, 'name': 'countryc'},\n",
       " 1: {'index': 2, 'name': 'year'},\n",
       " 2: {'index': 3, 'name': 'gov'},\n",
       " 3: {'index': 4, 'name': 'trade'},\n",
       " 4: {'index': 5, 'name': 'start'},\n",
       " 5: {'index': 6, 'name': 'tor'},\n",
       " 6: {'index': 7, 'name': 'bmp'},\n",
       " 7: {'index': 8, 'name': 'priv'},\n",
       " 8: {'index': 9, 'name': 'school'},\n",
       " 9: {'index': 10, 'name': 'lgdp'},\n",
       " 10: {'index': 11, 'name': 'growth'},\n",
       " 11: {'index': 12, 'name': 'pi'}}"
      ]
     },
     "execution_count": 43,
     "metadata": {},
     "output_type": "execute_result"
    }
   ],
   "source": [
    "cols_info"
   ]
  },
  {
   "cell_type": "code",
   "execution_count": null,
   "id": "8fdb995d",
   "metadata": {},
   "outputs": [],
   "source": []
  },
  {
   "cell_type": "code",
   "execution_count": null,
   "id": "df178d72",
   "metadata": {},
   "outputs": [],
   "source": []
  }
 ],
 "metadata": {
  "kernelspec": {
   "display_name": "Python 3",
   "language": "python",
   "name": "python3"
  },
  "language_info": {
   "codemirror_mode": {
    "name": "ipython",
    "version": 3
   },
   "file_extension": ".py",
   "mimetype": "text/x-python",
   "name": "python",
   "nbconvert_exporter": "python",
   "pygments_lexer": "ipython3",
   "version": "3.8.5"
  }
 },
 "nbformat": 4,
 "nbformat_minor": 5
}
