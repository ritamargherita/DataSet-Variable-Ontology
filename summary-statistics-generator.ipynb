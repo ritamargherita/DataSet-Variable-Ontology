{
 "cells": [
  {
   "cell_type": "code",
   "execution_count": 5,
   "id": "991810ee",
   "metadata": {},
   "outputs": [],
   "source": [
    "# packages & libraries\n",
    "\n",
    "import pandas as pd"
   ]
  },
  {
   "cell_type": "code",
   "execution_count": 8,
   "id": "8716105e",
   "metadata": {},
   "outputs": [],
   "source": [
    "# create dataframe from input csv path\n",
    "\n",
    "def create_df(input_csv_path: str) -> pd.DataFrame:\n",
    "    \"\"\"\n",
    "    Select CSV file for summary statistics generation.\n",
    "    \n",
    "    \"\"\"\n",
    "    \n",
    "    df = pd.read_csv(input_csv_path)\n",
    "    \n",
    "    return df"
   ]
  },
  {
   "cell_type": "code",
   "execution_count": 15,
   "id": "21d37db6",
   "metadata": {},
   "outputs": [],
   "source": [
    "# calculate number of rows\n",
    "\n",
    "def calculate_n_rows(df: pd.DataFrame) -> int:\n",
    "    \"\"\"\n",
    "    Calculate number of rows of DataFrame.\n",
    "    \n",
    "    \"\"\"\n",
    "    \n",
    "    n_rows = df.shape[0]\n",
    "    \n",
    "    return n_rows"
   ]
  },
  {
   "cell_type": "code",
   "execution_count": 19,
   "id": "bdc8763e",
   "metadata": {},
   "outputs": [],
   "source": [
    "# calculate number of columns\n",
    "\n",
    "def calculate_n_cols(df: pd.DataFrame) -> int:\n",
    "    \"\"\"\n",
    "    Calculate number of columns of DataFrame.\n",
    "    \n",
    "    \"\"\"\n",
    "    \n",
    "    n_cols = df.shape[1]\n",
    "    \n",
    "    return n_cols"
   ]
  },
  {
   "cell_type": "code",
   "execution_count": 46,
   "id": "23923185",
   "metadata": {},
   "outputs": [],
   "source": [
    "def calculate_df_completeness(df: pd.DataFrame) -> float:\n",
    "    \"\"\"\n",
    "    Calculate completeness of the dataframe, \n",
    "    round up at 2nd decimal.\n",
    "    \n",
    "    \"\"\"\n",
    "    \n",
    "    n_missing_values = df.isna().sum().sum()\n",
    "    \n",
    "    df_completeness = round((df.size - n_missing_values)/df.size, 2)\n",
    "    \n",
    "    return df_completeness"
   ]
  },
  {
   "cell_type": "code",
   "execution_count": 52,
   "id": "78b2c4c0",
   "metadata": {},
   "outputs": [],
   "source": [
    "def calculate_col_completeness(df: pd.DataFrame, n_rows: int) -> float:\n",
    "    \"\"\"\n",
    "    Calculate completeness of the dataframe, \n",
    "    round up at 2nd decimal.\n",
    "    \n",
    "    \"\"\"\n",
    "    \n",
    "    col_missing_values = df.isna().sum()\n",
    "    \n",
    "    col_completeness = round((n_rows - col_missing_values)/n_rows, 2)\n",
    "    \n",
    "    return col_completeness"
   ]
  },
  {
   "cell_type": "code",
   "execution_count": null,
   "id": "52d0d168",
   "metadata": {},
   "outputs": [],
   "source": [
    "# Calculation summary statistics below"
   ]
  },
  {
   "cell_type": "code",
   "execution_count": 13,
   "id": "ab92a482",
   "metadata": {},
   "outputs": [],
   "source": [
    "# define input CSV path\n",
    "\n",
    "input_csv_path = \"./input-csv/uk.csv\""
   ]
  },
  {
   "cell_type": "code",
   "execution_count": 63,
   "id": "8b9c325a",
   "metadata": {},
   "outputs": [
    {
     "name": "stdout",
     "output_type": "stream",
     "text": [
      "The number of rows is: 962760\n",
      "\n",
      "The number of columns is: 10\n",
      "\n",
      "The dataset completeness is: 0.98\n",
      "\n",
      "The completeness for each column is:\n",
      "year             1.00\n",
      "RGN20CD          0.89\n",
      "RGN20NM          0.89\n",
      "LAD20CD          1.00\n",
      "LAD20NM          1.00\n",
      "WD20CD           1.00\n",
      "WD20NM           1.00\n",
      "age_of_mother    1.00\n",
      "sex              1.00\n",
      "births           1.00\n",
      "dtype: float64\n"
     ]
    }
   ],
   "source": [
    "df = create_df(input_csv_path)\n",
    "\n",
    "# calculate and print number of rows\n",
    "n_rows = calculate_n_rows(df)\n",
    "print('The number of rows is: ' + str(n_rows) + '\\n')\n",
    "\n",
    "# calculate and print number of columns\n",
    "n_cols = calculate_n_cols(df)\n",
    "print('The number of columns is: ' + str(n_cols) + '\\n')\n",
    "\n",
    "# calculate and print dataset completeness\n",
    "# where 1.00 is 100% complete\n",
    "df_completeness = calculate_df_completeness(df)\n",
    "print('The dataset completeness is: ' + str(df_completeness) + '\\n')\n",
    "\n",
    "# calculate and print the completeness for each\n",
    "# column, where 1.00 is 100% complete\n",
    "col_completeness = calculate_col_completeness(df, n_rows)\n",
    "print('The completeness for each column is:\\n' + str(col_completeness))"
   ]
  },
  {
   "cell_type": "code",
   "execution_count": null,
   "id": "187c19ea",
   "metadata": {},
   "outputs": [],
   "source": []
  }
 ],
 "metadata": {
  "kernelspec": {
   "display_name": "Python 3 (ipykernel)",
   "language": "python",
   "name": "python3"
  },
  "language_info": {
   "codemirror_mode": {
    "name": "ipython",
    "version": 3
   },
   "file_extension": ".py",
   "mimetype": "text/x-python",
   "name": "python",
   "nbconvert_exporter": "python",
   "pygments_lexer": "ipython3",
   "version": "3.10.12"
  }
 },
 "nbformat": 4,
 "nbformat_minor": 5
}
