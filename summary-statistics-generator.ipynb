{
 "cells": [
  {
   "cell_type": "code",
   "execution_count": 1,
   "id": "1823e080",
   "metadata": {},
   "outputs": [],
   "source": [
    "# packages & libraries\n",
    "\n",
    "import pandas as pd"
   ]
  },
  {
   "cell_type": "code",
   "execution_count": 2,
   "id": "195e41e0",
   "metadata": {},
   "outputs": [],
   "source": [
    "# create dataframe from input csv path\n",
    "\n",
    "def create_df(input_csv_path: str) -> pd.DataFrame:\n",
    "    \"\"\"\n",
    "    Select CSV file for summary statistics generation.\n",
    "    \n",
    "    \"\"\"\n",
    "    \n",
    "    df = pd.read_csv(input_csv_path)\n",
    "    \n",
    "    return df"
   ]
  },
  {
   "cell_type": "code",
   "execution_count": 3,
   "id": "ff64d652",
   "metadata": {},
   "outputs": [],
   "source": [
    "# calculate number of rows\n",
    "\n",
    "def calculate_n_rows(df: pd.DataFrame) -> int:\n",
    "    \"\"\"\n",
    "    Calculate number of rows of DataFrame.\n",
    "    \n",
    "    \"\"\"\n",
    "    \n",
    "    n_rows = df.shape[0]\n",
    "    \n",
    "    return n_rows"
   ]
  },
  {
   "cell_type": "code",
   "execution_count": 4,
   "id": "f76fba70",
   "metadata": {},
   "outputs": [],
   "source": [
    "# calculate number of columns\n",
    "\n",
    "def calculate_n_cols(df: pd.DataFrame) -> int:\n",
    "    \"\"\"\n",
    "    Calculate number of columns of DataFrame.\n",
    "    \n",
    "    \"\"\"\n",
    "    \n",
    "    n_cols = df.shape[1]\n",
    "    \n",
    "    return n_cols"
   ]
  },
  {
   "cell_type": "code",
   "execution_count": 5,
   "id": "ff6379ba",
   "metadata": {},
   "outputs": [],
   "source": [
    "def calculate_df_completeness(df: pd.DataFrame) -> float:\n",
    "    \"\"\"\n",
    "    Calculate completeness of the dataframe, \n",
    "    round up at 2nd decimal.\n",
    "    \n",
    "    \"\"\"\n",
    "    \n",
    "    n_missing_values = df.isna().sum().sum()\n",
    "    \n",
    "    df_completeness = round((df.size - n_missing_values)/df.size, 2)\n",
    "    \n",
    "    return df_completeness"
   ]
  },
  {
   "cell_type": "code",
   "execution_count": 6,
   "id": "8d62336e",
   "metadata": {},
   "outputs": [],
   "source": [
    "def calculate_col_completeness(df: pd.DataFrame, n_rows: int) -> float:\n",
    "    \"\"\"\n",
    "    Calculate completeness of the dataframe, \n",
    "    round up at 2nd decimal.\n",
    "    \n",
    "    \"\"\"\n",
    "    \n",
    "    col_missing_values = df.isna().sum()\n",
    "    \n",
    "    col_completeness = round((n_rows - col_missing_values)/n_rows, 2)\n",
    "    \n",
    "    return col_completeness"
   ]
  },
  {
   "cell_type": "code",
   "execution_count": 7,
   "id": "45c6b4b6",
   "metadata": {},
   "outputs": [],
   "source": [
    "# Calculation summary statistics below"
   ]
  },
  {
   "cell_type": "code",
   "execution_count": 8,
   "id": "3c4ca8e5",
   "metadata": {},
   "outputs": [],
   "source": [
    "# define input CSV path\n",
    "\n",
    "input_csv_path = \"./input-csv/usa.csv\""
   ]
  },
  {
   "cell_type": "code",
   "execution_count": 9,
   "id": "92a9b564",
   "metadata": {},
   "outputs": [
    {
     "name": "stdout",
     "output_type": "stream",
     "text": [
      "The number of rows is: 110\n",
      "\n",
      "The number of columns is: 4\n",
      "\n",
      "The dataset completeness is: 1.0\n",
      "\n",
      "The completeness for each column is:\n",
      "Year                      1.0\n",
      "Birth Number              1.0\n",
      "General Fertility Rate    1.0\n",
      "Crude Birth Rate          1.0\n",
      "dtype: float64\n"
     ]
    }
   ],
   "source": [
    "df = create_df(input_csv_path)\n",
    "\n",
    "# calculate and print number of rows\n",
    "n_rows = calculate_n_rows(df)\n",
    "print('The number of rows is: ' + str(n_rows) + '\\n')\n",
    "\n",
    "# calculate and print number of columns\n",
    "n_cols = calculate_n_cols(df)\n",
    "print('The number of columns is: ' + str(n_cols) + '\\n')\n",
    "\n",
    "# calculate and print dataset completeness\n",
    "# where 1.00 is 100% complete\n",
    "df_completeness = calculate_df_completeness(df)\n",
    "print('The dataset completeness is: ' + str(df_completeness) + '\\n')\n",
    "\n",
    "# calculate and print the completeness for each\n",
    "# column, where 1.00 is 100% complete\n",
    "col_completeness = calculate_col_completeness(df, n_rows)\n",
    "print('The completeness for each column is:\\n' + str(col_completeness))"
   ]
  },
  {
   "cell_type": "code",
   "execution_count": null,
   "id": "4561b0db",
   "metadata": {},
   "outputs": [],
   "source": []
  }
 ],
 "metadata": {
  "kernelspec": {
   "display_name": "Python 3 (ipykernel)",
   "language": "python",
   "name": "python3"
  },
  "language_info": {
   "codemirror_mode": {
    "name": "ipython",
    "version": 3
   },
   "file_extension": ".py",
   "mimetype": "text/x-python",
   "name": "python",
   "nbconvert_exporter": "python",
   "pygments_lexer": "ipython3",
   "version": "3.10.12"
  }
 },
 "nbformat": 4,
 "nbformat_minor": 5
}
